{
 "cells": [
  {
   "cell_type": "code",
   "execution_count": 1,
   "id": "b2bab949",
   "metadata": {},
   "outputs": [],
   "source": [
    "import sys\n",
    "sys.path.insert(0,'../scripts')\n",
    "\n",
    "import warnings\n",
    "\n",
    "warnings.filterwarnings(\"ignore\")\n",
    "import ipywidgets\n",
    "import matplotlib.pyplot as plt\n",
    "import numpy as np\n",
    "import torch\n",
    "from PIL import Image\n",
    "from torchvision.datasets import ImageFolder\n",
    "\n",
    "import augmentations\n",
    "import build_datasets\n",
    "from main import parse_args"
   ]
  },
  {
   "cell_type": "code",
   "execution_count": 2,
   "id": "76c0a351",
   "metadata": {},
   "outputs": [],
   "source": [
    "def to_numpy(t):\n",
    "    array = torch.clip((t * 0.224) + 0.45, 0, 1).permute(1, 2, 0).numpy()\n",
    "    return array"
   ]
  },
  {
   "cell_type": "code",
   "execution_count": 3,
   "id": "5e3103b9",
   "metadata": {},
   "outputs": [
    {
     "name": "stdout",
     "output_type": "stream",
     "text": [
      "\n",
      "\n",
      "====================================================================================================\n",
      "\n",
      "ARGS ARE: \n",
      "{'dataset_params': {'dataset_name': 'ImageNet', 'data_folder': '/storage/yue/data/'}, 'dataloader_params': {'trainloader': {'batch_size': 36, 'num_workers': 6, 'pin_memory': True, 'drop_last': True}, 'valloader': {'batch_size': 36, 'num_workers': 6, 'pin_memory': True, 'drop_last': True}}, 'augmentation_params': {'global_crops_scale': [0.4, 1.0], 'local_crops_scale': [0.05, 0.4], 'local_crops_number': 8, 'global_size': 224, 'local_size': 96}, 'model_params': {'backbone_option': 'vit_tiny', 'patch_size': 16, 'drop_path_rate': 0.1, 'out_dim': 65536, 'use_bn_in_head': False, 'norm_last_layer': False}, 'system_params': {'num_gpus': 2, 'gpu_ids': '0,1', 'random_seed': 6111}}\n",
      "\n",
      "====================================================================================================\n",
      "\n"
     ]
    }
   ],
   "source": [
    "args = parse_args(params_path='/home/yue3/DINO/scripts/yaml/test_params.yaml')\n",
    "augmentation_params = args['augmentation_params']\n",
    "dataset_params = args['dataset_params']\n",
    "transforms_aug = augmentations.DataAugmentationDINO(\n",
    "        augmentation_params['global_crops_scale'],\n",
    "        augmentation_params['local_crops_scale'],\n",
    "        augmentation_params['local_crops_number'],\n",
    "        augmentation_params['global_size'],\n",
    "        augmentation_params['local_size']\n",
    "    )"
   ]
  },
  {
   "cell_type": "code",
   "execution_count": 4,
   "id": "aca1a1b2",
   "metadata": {},
   "outputs": [],
   "source": [
    "train_aug_dataset = build_datasets.get_datasets(dataset_params, 'train/', transforms_aug)"
   ]
  },
  {
   "cell_type": "code",
   "execution_count": 5,
   "id": "7b395a16",
   "metadata": {},
   "outputs": [
    {
     "data": {
      "application/vnd.jupyter.widget-view+json": {
       "model_id": "4d42b4cb33934d3b98b67e1ba317bea5",
       "version_major": 2,
       "version_minor": 0
      },
      "text/plain": [
       "interactive(children=(IntSlider(value=0, continuous_update=False, description='i', max=1281166), IntSlider(val…"
      ]
     },
     "metadata": {},
     "output_type": "display_data"
    }
   ],
   "source": [
    "@ipywidgets.interact\n",
    "def _(\n",
    "    i=ipywidgets.IntSlider(min=0, max=len(train_aug_dataset) - 1, continuous_update=False),\n",
    "    seed=ipywidgets.IntSlider(min=0, max=50, continuous_update=False),\n",
    "):\n",
    "    torch.manual_seed(seed)\n",
    "    all_crops, _ = train_aug_dataset[i]\n",
    "    titles = [\"Global 1\", \"Global 2\", \"Local 1\", \"Local 2\"]\n",
    "    \n",
    "    original_img = np.array(Image.open(train_aug_dataset.samples[i][0]))\n",
    "    _, ax_orig = plt.subplots(figsize=(15, 5))\n",
    "    ax_orig.imshow(original_img)\n",
    "    ax_orig.set_title(\"Original\")\n",
    "    ax_orig.axis(\"off\")\n",
    "    \n",
    "    \n",
    "    fig, axs = plt.subplots(2, 2, figsize=(10, 10))\n",
    "    \n",
    "    for i, title in enumerate(titles):\n",
    "        ax = axs[i // 2, i % 2]\n",
    "        ax.imshow(to_numpy(all_crops[i]))\n",
    "        ax.set_title(title)\n",
    "        ax.axis(\"off\")\n",
    "    fig.tight_layout()"
   ]
  },
  {
   "cell_type": "code",
   "execution_count": null,
   "id": "1da2055f",
   "metadata": {},
   "outputs": [],
   "source": []
  }
 ],
 "metadata": {
  "kernelspec": {
   "display_name": "Python 3 (ipykernel)",
   "language": "python",
   "name": "python3"
  },
  "language_info": {
   "codemirror_mode": {
    "name": "ipython",
    "version": 3
   },
   "file_extension": ".py",
   "mimetype": "text/x-python",
   "name": "python",
   "nbconvert_exporter": "python",
   "pygments_lexer": "ipython3",
   "version": "3.7.7"
  }
 },
 "nbformat": 4,
 "nbformat_minor": 5
}
