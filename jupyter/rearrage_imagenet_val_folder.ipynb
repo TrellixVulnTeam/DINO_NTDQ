{
 "cells": [
  {
   "cell_type": "code",
   "execution_count": null,
   "id": "42a70daf",
   "metadata": {},
   "outputs": [],
   "source": [
    "import os\n",
    "import shutil\n",
    "import pandas as pd"
   ]
  },
  {
   "cell_type": "code",
   "execution_count": null,
   "id": "cab39ff7",
   "metadata": {},
   "outputs": [],
   "source": [
    "df = pd.read_csv('/storage/yue/data/imagenet/LOC_val_solution.csv')\n",
    "df"
   ]
  },
  {
   "cell_type": "code",
   "execution_count": null,
   "id": "3b808ea6",
   "metadata": {},
   "outputs": [],
   "source": [
    "def get_cls(x_list):\n",
    "    return list(filter(lambda a: 'n' in a, x_list))\n",
    "df['PredictionCls'] = df['PredictionString'].str.split(' ').apply(list).apply(get_cls).apply(set).apply(list)\n",
    "df['PredictionCls_len'] = df['PredictionCls'].str.len()\n",
    "print(set(df['PredictionCls_len']))"
   ]
  },
  {
   "cell_type": "code",
   "execution_count": null,
   "id": "71bfd3fe",
   "metadata": {},
   "outputs": [],
   "source": [
    "val_folder = '/storage/yue/data/imagenet/ILSVRC/Data/CLS-LOC/val/'\n",
    "for root, folder, files in os.walk(val_folder):\n",
    "    for name in files:\n",
    "        img_path = os.path.join(root, name)\n",
    "        ImageId = name.split('.JPEG')[0]\n",
    "        image_cls = df[df['ImageId']==ImageId]['PredictionCls'].tolist()[0][0]\n",
    "        image_folder = os.path.join(val_folder, image_cls)\n",
    "        new_path = os.path.join(image_folder, name)\n",
    "        if not os.path.exists(image_folder):\n",
    "            os.makedirs(image_folder)\n",
    "        shutil.move(img_path, new_path)"
   ]
  }
 ],
 "metadata": {
  "kernelspec": {
   "display_name": "Python 3 (ipykernel)",
   "language": "python",
   "name": "python3"
  },
  "language_info": {
   "codemirror_mode": {
    "name": "ipython",
    "version": 3
   },
   "file_extension": ".py",
   "mimetype": "text/x-python",
   "name": "python",
   "nbconvert_exporter": "python",
   "pygments_lexer": "ipython3",
   "version": "3.7.7"
  }
 },
 "nbformat": 4,
 "nbformat_minor": 5
}
